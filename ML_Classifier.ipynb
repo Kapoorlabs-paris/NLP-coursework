{
 "cells": [
  {
   "cell_type": "code",
   "execution_count": 17,
   "id": "a0555bec",
   "metadata": {
    "pycharm": {
     "name": "#%%\n"
    }
   },
   "outputs": [],
   "source": [
    "from config import RAW_DATA_PATH\n",
    "import pandas as pd\n",
    "\n",
    "import os"
   ]
  },
  {
   "cell_type": "markdown",
   "id": "f3b1b6b8",
   "metadata": {
    "pycharm": {
     "name": "#%% md\n"
    }
   },
   "source": [
    "Load the dataframe and tokenized documents"
   ]
  },
  {
   "cell_type": "code",
   "execution_count": 44,
   "id": "7d6577d3",
   "metadata": {},
   "outputs": [],
   "source": [
    "df = pd.read_csv('data/preprocessing/document_tokens_labelled.csv', sep=',')"
   ]
  },
  {
   "cell_type": "code",
   "execution_count": 45,
   "id": "bd6a0abd",
   "metadata": {},
   "outputs": [
    {
     "data": {
      "text/html": [
       "<div>\n",
       "<style scoped>\n",
       "    .dataframe tbody tr th:only-of-type {\n",
       "        vertical-align: middle;\n",
       "    }\n",
       "\n",
       "    .dataframe tbody tr th {\n",
       "        vertical-align: top;\n",
       "    }\n",
       "\n",
       "    .dataframe thead th {\n",
       "        text-align: right;\n",
       "    }\n",
       "</style>\n",
       "<table border=\"1\" class=\"dataframe\">\n",
       "  <thead>\n",
       "    <tr style=\"text-align: right;\">\n",
       "      <th></th>\n",
       "      <th>document_tokens</th>\n",
       "      <th>label</th>\n",
       "    </tr>\n",
       "  </thead>\n",
       "  <tbody>\n",
       "    <tr>\n",
       "      <th>0</th>\n",
       "      <td>commission|accès|document|administratif|examin...</td>\n",
       "      <td>défavorable</td>\n",
       "    </tr>\n",
       "    <tr>\n",
       "      <th>1</th>\n",
       "      <td>commission|accès|document|administratif|examin...</td>\n",
       "      <td>défavorable</td>\n",
       "    </tr>\n",
       "    <tr>\n",
       "      <th>2</th>\n",
       "      <td>commission|accès|document|administratif|examin...</td>\n",
       "      <td>défavorable</td>\n",
       "    </tr>\n",
       "    <tr>\n",
       "      <th>3</th>\n",
       "      <td>commission|accès|document|administratif|examin...</td>\n",
       "      <td>NaN</td>\n",
       "    </tr>\n",
       "    <tr>\n",
       "      <th>4</th>\n",
       "      <td>commission|accès|document|administratif|examin...</td>\n",
       "      <td>NaN</td>\n",
       "    </tr>\n",
       "    <tr>\n",
       "      <th>...</th>\n",
       "      <td>...</td>\n",
       "      <td>...</td>\n",
       "    </tr>\n",
       "    <tr>\n",
       "      <th>48741</th>\n",
       "      <td>monsieur|x|saisir|commission|accès|document|ad...</td>\n",
       "      <td>favorable</td>\n",
       "    </tr>\n",
       "    <tr>\n",
       "      <th>48742</th>\n",
       "      <td>monsieur|x|saisir|commission|accès|document|ad...</td>\n",
       "      <td>sans objet</td>\n",
       "    </tr>\n",
       "    <tr>\n",
       "      <th>48743</th>\n",
       "      <td>maître|x|x|saisir|commission|accès|document|ad...</td>\n",
       "      <td>sans objet</td>\n",
       "    </tr>\n",
       "    <tr>\n",
       "      <th>48744</th>\n",
       "      <td>Monsieur|x|x|saisir|commission|accès|document|...</td>\n",
       "      <td>sans objet</td>\n",
       "    </tr>\n",
       "    <tr>\n",
       "      <th>48745</th>\n",
       "      <td>monsieur|x|saisir|commission|accès|document|ad...</td>\n",
       "      <td>sans objet</td>\n",
       "    </tr>\n",
       "  </tbody>\n",
       "</table>\n",
       "<p>48746 rows × 2 columns</p>\n",
       "</div>"
      ],
      "text/plain": [
       "                                         document_tokens        label\n",
       "0      commission|accès|document|administratif|examin...  défavorable\n",
       "1      commission|accès|document|administratif|examin...  défavorable\n",
       "2      commission|accès|document|administratif|examin...  défavorable\n",
       "3      commission|accès|document|administratif|examin...          NaN\n",
       "4      commission|accès|document|administratif|examin...          NaN\n",
       "...                                                  ...          ...\n",
       "48741  monsieur|x|saisir|commission|accès|document|ad...    favorable\n",
       "48742  monsieur|x|saisir|commission|accès|document|ad...   sans objet\n",
       "48743  maître|x|x|saisir|commission|accès|document|ad...   sans objet\n",
       "48744  Monsieur|x|x|saisir|commission|accès|document|...   sans objet\n",
       "48745  monsieur|x|saisir|commission|accès|document|ad...   sans objet\n",
       "\n",
       "[48746 rows x 2 columns]"
      ]
     },
     "execution_count": 45,
     "metadata": {},
     "output_type": "execute_result"
    }
   ],
   "source": [
    "df"
   ]
  },
  {
   "cell_type": "code",
   "execution_count": 46,
   "id": "00afa59e",
   "metadata": {},
   "outputs": [
    {
     "data": {
      "text/plain": [
       "favorable      26940\n",
       "sans objet      9849\n",
       "défavorable     3665\n",
       "Name: label, dtype: int64"
      ]
     },
     "execution_count": 46,
     "metadata": {},
     "output_type": "execute_result"
    }
   ],
   "source": [
    "df.label.value_counts()"
   ]
  },
  {
   "cell_type": "markdown",
   "id": "7c2feeed",
   "metadata": {
    "pycharm": {
     "name": "#%% md\n"
    }
   },
   "source": [
    "Split into Train and Test upfront in order to avoid data leakage."
   ]
  },
  {
   "cell_type": "code",
   "execution_count": null,
   "id": "cc96bcb9",
   "metadata": {
    "pycharm": {
     "name": "#%%\n"
    }
   },
   "outputs": [],
   "source": []
  },
  {
   "cell_type": "markdown",
   "id": "6f8728dc",
   "metadata": {
    "pycharm": {
     "name": "#%% md\n"
    }
   },
   "source": [
    "Build a naive baseline model"
   ]
  },
  {
   "cell_type": "code",
   "execution_count": null,
   "id": "7b2922ff",
   "metadata": {
    "pycharm": {
     "name": "#%%\n"
    }
   },
   "outputs": [],
   "source": []
  },
  {
   "cell_type": "markdown",
   "id": "19a79b82",
   "metadata": {
    "pycharm": {
     "name": "#%% md\n"
    }
   },
   "source": [
    "Build a training pipeline with sklearn"
   ]
  },
  {
   "cell_type": "code",
   "execution_count": null,
   "id": "01c30f22",
   "metadata": {
    "pycharm": {
     "name": "#%%\n"
    }
   },
   "outputs": [],
   "source": []
  },
  {
   "cell_type": "markdown",
   "id": "645043a6",
   "metadata": {
    "pycharm": {
     "name": "#%% md\n"
    }
   },
   "source": [
    "Build the inference pipeline"
   ]
  },
  {
   "cell_type": "code",
   "execution_count": null,
   "id": "be352c64",
   "metadata": {
    "pycharm": {
     "name": "#%%\n"
    }
   },
   "outputs": [],
   "source": []
  },
  {
   "cell_type": "markdown",
   "id": "cbc3534a",
   "metadata": {
    "pycharm": {
     "name": "#%% md\n"
    }
   },
   "source": [
    "Run inference pipeline on test data and evaluate results"
   ]
  },
  {
   "cell_type": "code",
   "execution_count": null,
   "id": "cd4bf88a",
   "metadata": {
    "pycharm": {
     "name": "#%%\n"
    }
   },
   "outputs": [],
   "source": []
  }
 ],
 "metadata": {
  "kernelspec": {
   "display_name": "Python 3 (ipykernel)",
   "language": "python",
   "name": "python3"
  },
  "language_info": {
   "codemirror_mode": {
    "name": "ipython",
    "version": 3
   },
   "file_extension": ".py",
   "mimetype": "text/x-python",
   "name": "python",
   "nbconvert_exporter": "python",
   "pygments_lexer": "ipython3",
   "version": "3.10.8"
  }
 },
 "nbformat": 4,
 "nbformat_minor": 5
}
